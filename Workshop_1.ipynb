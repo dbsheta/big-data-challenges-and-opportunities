{
  "nbformat": 4,
  "nbformat_minor": 0,
  "metadata": {
    "colab": {
      "name": "Workshop 1.ipynb",
      "provenance": [],
      "collapsed_sections": [],
      "authorship_tag": "ABX9TyOQ6BCPTEkrU5ALCDsCGiEJ",
      "include_colab_link": true
    },
    "kernelspec": {
      "name": "python3",
      "display_name": "Python 3"
    },
    "language_info": {
      "name": "python"
    }
  },
  "cells": [
    {
      "cell_type": "markdown",
      "metadata": {
        "id": "view-in-github",
        "colab_type": "text"
      },
      "source": [
        "<a href=\"https://colab.research.google.com/github/dbsheta/big-data-challenges-and-opportunities/blob/main/Workshop_1.ipynb\" target=\"_parent\"><img src=\"https://colab.research.google.com/assets/colab-badge.svg\" alt=\"Open In Colab\"/></a>"
      ]
    },
    {
      "cell_type": "markdown",
      "source": [
        "# Workshop 1\n",
        "Jan 12, 2022\n",
        "\n",
        "---\n"
      ],
      "metadata": {
        "id": "W2f_eMnpZtAt"
      }
    },
    {
      "cell_type": "code",
      "source": [
        "import os\n",
        "import pandas as pd\n",
        "import numpy as np\n",
        "import plotly as plt"
      ],
      "metadata": {
        "id": "1yooqQL0bieo"
      },
      "execution_count": 1,
      "outputs": []
    },
    {
      "cell_type": "code",
      "source": [
        "from google.colab import drive\n",
        "\n",
        "drive.mount('/content/drive')\n",
        "\n",
        "os.listdir('/content/drive/MyDrive')"
      ],
      "metadata": {
        "id": "U94m6h7mcVGQ"
      },
      "execution_count": null,
      "outputs": []
    }
  ]
}